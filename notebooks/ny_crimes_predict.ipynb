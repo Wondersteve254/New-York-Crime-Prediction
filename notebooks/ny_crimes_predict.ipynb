{
 "cells": [
  {
   "cell_type": "markdown",
   "metadata": {},
   "source": [
    "# NYC Crimes severity prediction"
   ]
  },
  {
   "cell_type": "markdown",
   "metadata": {
    "heading_collapsed": true
   },
   "source": [
    "## Import libraries"
   ]
  },
  {
   "cell_type": "code",
   "execution_count": 3,
   "metadata": {
    "ExecuteTime": {
     "end_time": "2021-12-29T10:54:36.838005Z",
     "start_time": "2021-12-29T10:54:36.802026Z"
    },
    "hidden": true
   },
   "outputs": [],
   "source": [
    "# Import numpy, pandas, matpltlib.pyplot, sklearn modules and seaborn\n",
    "import numpy as np\n",
    "import pandas as pd\n",
    "import joblib\n",
    "import re\n",
    "import os\n",
    "from tqdm import tqdm\n",
    "import matplotlib.pyplot as plt\n",
    "import seaborn as sns\n",
    "%matplotlib inline\n",
    "pd.set_option('display.max_rows', 200)\n",
    "pd.set_option('display.max_columns', 200)\n",
    "plt.style.use('ggplot')\n",
    "\n",
    "# Import RandomForestClassifier\n",
    "from sklearn.ensemble import RandomForestClassifier\n",
    "# Import LightGBM Classifier\n",
    "import lightgbm as lgbm\n",
    "# Import XGBoost Classifier\n",
    "from xgboost import XGBClassifier\n",
    "\n",
    "\n",
    "from sklearn.model_selection import train_test_split\n",
    "from sklearn.model_selection import GridSearchCV, RandomizedSearchCV\n",
    "from sklearn.feature_selection import SelectFromModel\n",
    "from sklearn.metrics import classification_report\n",
    "from sklearn.metrics import confusion_matrix\n",
    "from sklearn.metrics import accuracy_score\n",
    "from sklearn.metrics import roc_curve, auc\n",
    "\n",
    "import scikitplot as skplt"
   ]
  },
  {
   "cell_type": "markdown",
   "metadata": {
    "heading_collapsed": true
   },
   "source": [
    "## Data selection"
   ]
  },
  {
   "cell_type": "code",
   "execution_count": 4,
   "metadata": {
    "ExecuteTime": {
     "end_time": "2021-12-29T10:55:14.134233Z",
     "start_time": "2021-12-29T10:54:50.773361Z"
    },
    "hidden": true
   },
   "outputs": [
    {
     "name": "stdout",
     "output_type": "stream",
     "text": [
      "<class 'pandas.core.frame.DataFrame'>\n",
      "RangeIndex: 6451985 entries, 0 to 6451984\n",
      "Data columns (total 21 columns):\n",
      " #   Column             Dtype  \n",
      "---  ------             -----  \n",
      " 0   EVENT_TIME         object \n",
      " 1   year               int64  \n",
      " 2   month              int64  \n",
      " 3   day                int64  \n",
      " 4   Latitude           float64\n",
      " 5   Longitude          float64\n",
      " 6   CRM_ATPT_CPTD_CD   object \n",
      " 7   OFNS_DESC          object \n",
      " 8   ADDR_PCT_CD        float64\n",
      " 9   LAW_CAT_CD         object \n",
      " 10  BORO_NM            object \n",
      " 11  PREM_TYP_DESC      object \n",
      " 12  IN_PARK            int64  \n",
      " 13  IN_PUBLIC_HOUSING  int64  \n",
      " 14  IN_STATION         int64  \n",
      " 15  SUSP_AGE_GROUP     object \n",
      " 16  SUSP_RACE          object \n",
      " 17  SUSP_SEX           object \n",
      " 18  VIC_AGE_GROUP      object \n",
      " 19  VIC_RACE           object \n",
      " 20  VIC_SEX            object \n",
      "dtypes: float64(3), int64(6), object(12)\n",
      "memory usage: 1.0+ GB\n",
      "None\n"
     ]
    }
   ],
   "source": [
    "# Import the data\n",
    "df = pd.read_csv('./ny_clean_train.csv')\n",
    "print(df.info())\n",
    "# Convert the Event time and category of the crime to a more representatble data.\n",
    "df.EVENT_TIME = pd.to_datetime(df.EVENT_TIME).dt.hour\n",
    "df.LAW_CAT_CD = df['LAW_CAT_CD'].replace(['FELONY','MISDEMEANOR',\"VIOLATION\"],[2,1,0])"
   ]
  },
  {
   "cell_type": "code",
   "execution_count": 6,
   "metadata": {
    "ExecuteTime": {
     "end_time": "2021-12-29T10:55:20.539320Z",
     "start_time": "2021-12-29T10:55:20.512043Z"
    },
    "hidden": true
   },
   "outputs": [
    {
     "data": {
      "text/html": [
       "<div>\n",
       "<style scoped>\n",
       "    .dataframe tbody tr th:only-of-type {\n",
       "        vertical-align: middle;\n",
       "    }\n",
       "\n",
       "    .dataframe tbody tr th {\n",
       "        vertical-align: top;\n",
       "    }\n",
       "\n",
       "    .dataframe thead th {\n",
       "        text-align: right;\n",
       "    }\n",
       "</style>\n",
       "<table border=\"1\" class=\"dataframe\">\n",
       "  <thead>\n",
       "    <tr style=\"text-align: right;\">\n",
       "      <th></th>\n",
       "      <th>EVENT_TIME</th>\n",
       "      <th>year</th>\n",
       "      <th>month</th>\n",
       "      <th>day</th>\n",
       "      <th>Latitude</th>\n",
       "      <th>Longitude</th>\n",
       "      <th>CRM_ATPT_CPTD_CD</th>\n",
       "      <th>OFNS_DESC</th>\n",
       "      <th>ADDR_PCT_CD</th>\n",
       "      <th>LAW_CAT_CD</th>\n",
       "      <th>BORO_NM</th>\n",
       "      <th>PREM_TYP_DESC</th>\n",
       "      <th>IN_PARK</th>\n",
       "      <th>IN_PUBLIC_HOUSING</th>\n",
       "      <th>IN_STATION</th>\n",
       "      <th>SUSP_AGE_GROUP</th>\n",
       "      <th>SUSP_RACE</th>\n",
       "      <th>SUSP_SEX</th>\n",
       "      <th>VIC_AGE_GROUP</th>\n",
       "      <th>VIC_RACE</th>\n",
       "      <th>VIC_SEX</th>\n",
       "    </tr>\n",
       "  </thead>\n",
       "  <tbody>\n",
       "    <tr>\n",
       "      <th>0</th>\n",
       "      <td>17</td>\n",
       "      <td>2014</td>\n",
       "      <td>9</td>\n",
       "      <td>4</td>\n",
       "      <td>40.685041</td>\n",
       "      <td>-73.921777</td>\n",
       "      <td>COMPLETED</td>\n",
       "      <td>ASSAULT 3 &amp; RELATED OFFENSES</td>\n",
       "      <td>81.0</td>\n",
       "      <td>1</td>\n",
       "      <td>BROOKLYN</td>\n",
       "      <td>STREET</td>\n",
       "      <td>0</td>\n",
       "      <td>0</td>\n",
       "      <td>0</td>\n",
       "      <td>UNKNOWN</td>\n",
       "      <td>UNKNOWN</td>\n",
       "      <td>U</td>\n",
       "      <td>25-44</td>\n",
       "      <td>WHITE</td>\n",
       "      <td>F</td>\n",
       "    </tr>\n",
       "    <tr>\n",
       "      <th>1</th>\n",
       "      <td>7</td>\n",
       "      <td>2016</td>\n",
       "      <td>10</td>\n",
       "      <td>12</td>\n",
       "      <td>40.636991</td>\n",
       "      <td>-74.134093</td>\n",
       "      <td>COMPLETED</td>\n",
       "      <td>GRAND LARCENY</td>\n",
       "      <td>121.0</td>\n",
       "      <td>2</td>\n",
       "      <td>STATEN ISLAND</td>\n",
       "      <td>STREET</td>\n",
       "      <td>0</td>\n",
       "      <td>0</td>\n",
       "      <td>0</td>\n",
       "      <td>UNKNOWN</td>\n",
       "      <td>BLACK</td>\n",
       "      <td>U</td>\n",
       "      <td>45-64</td>\n",
       "      <td>WHITE HISPANIC</td>\n",
       "      <td>F</td>\n",
       "    </tr>\n",
       "    <tr>\n",
       "      <th>2</th>\n",
       "      <td>13</td>\n",
       "      <td>2012</td>\n",
       "      <td>9</td>\n",
       "      <td>28</td>\n",
       "      <td>40.823876</td>\n",
       "      <td>-73.891863</td>\n",
       "      <td>COMPLETED</td>\n",
       "      <td>GRAND LARCENY</td>\n",
       "      <td>41.0</td>\n",
       "      <td>2</td>\n",
       "      <td>BRONX</td>\n",
       "      <td>STREET</td>\n",
       "      <td>0</td>\n",
       "      <td>0</td>\n",
       "      <td>0</td>\n",
       "      <td>UNKNOWN</td>\n",
       "      <td>WHITE HISPANIC</td>\n",
       "      <td>M</td>\n",
       "      <td>45-64</td>\n",
       "      <td>WHITE HISPANIC</td>\n",
       "      <td>F</td>\n",
       "    </tr>\n",
       "    <tr>\n",
       "      <th>3</th>\n",
       "      <td>15</td>\n",
       "      <td>2015</td>\n",
       "      <td>3</td>\n",
       "      <td>24</td>\n",
       "      <td>40.845707</td>\n",
       "      <td>-73.910398</td>\n",
       "      <td>COMPLETED</td>\n",
       "      <td>PETIT LARCENY</td>\n",
       "      <td>46.0</td>\n",
       "      <td>1</td>\n",
       "      <td>BRONX</td>\n",
       "      <td>STREET</td>\n",
       "      <td>0</td>\n",
       "      <td>0</td>\n",
       "      <td>0</td>\n",
       "      <td>UNKNOWN</td>\n",
       "      <td>BLACK</td>\n",
       "      <td>M</td>\n",
       "      <td>&lt;18</td>\n",
       "      <td>WHITE HISPANIC</td>\n",
       "      <td>F</td>\n",
       "    </tr>\n",
       "    <tr>\n",
       "      <th>4</th>\n",
       "      <td>4</td>\n",
       "      <td>2017</td>\n",
       "      <td>5</td>\n",
       "      <td>20</td>\n",
       "      <td>40.763992</td>\n",
       "      <td>-73.828426</td>\n",
       "      <td>COMPLETED</td>\n",
       "      <td>ASSAULT 3 &amp; RELATED OFFENSES</td>\n",
       "      <td>109.0</td>\n",
       "      <td>1</td>\n",
       "      <td>QUEENS</td>\n",
       "      <td>STREET</td>\n",
       "      <td>0</td>\n",
       "      <td>0</td>\n",
       "      <td>0</td>\n",
       "      <td>25-44</td>\n",
       "      <td>WHITE HISPANIC</td>\n",
       "      <td>M</td>\n",
       "      <td>25-44</td>\n",
       "      <td>BLACK</td>\n",
       "      <td>M</td>\n",
       "    </tr>\n",
       "  </tbody>\n",
       "</table>\n",
       "</div>"
      ],
      "text/plain": [
       "   EVENT_TIME  year  month  day   Latitude  Longitude CRM_ATPT_CPTD_CD  \\\n",
       "0          17  2014      9    4  40.685041 -73.921777        COMPLETED   \n",
       "1           7  2016     10   12  40.636991 -74.134093        COMPLETED   \n",
       "2          13  2012      9   28  40.823876 -73.891863        COMPLETED   \n",
       "3          15  2015      3   24  40.845707 -73.910398        COMPLETED   \n",
       "4           4  2017      5   20  40.763992 -73.828426        COMPLETED   \n",
       "\n",
       "                      OFNS_DESC  ADDR_PCT_CD  LAW_CAT_CD        BORO_NM  \\\n",
       "0  ASSAULT 3 & RELATED OFFENSES         81.0           1       BROOKLYN   \n",
       "1                 GRAND LARCENY        121.0           2  STATEN ISLAND   \n",
       "2                 GRAND LARCENY         41.0           2          BRONX   \n",
       "3                 PETIT LARCENY         46.0           1          BRONX   \n",
       "4  ASSAULT 3 & RELATED OFFENSES        109.0           1         QUEENS   \n",
       "\n",
       "  PREM_TYP_DESC  IN_PARK  IN_PUBLIC_HOUSING  IN_STATION SUSP_AGE_GROUP  \\\n",
       "0        STREET        0                  0           0        UNKNOWN   \n",
       "1        STREET        0                  0           0        UNKNOWN   \n",
       "2        STREET        0                  0           0        UNKNOWN   \n",
       "3        STREET        0                  0           0        UNKNOWN   \n",
       "4        STREET        0                  0           0          25-44   \n",
       "\n",
       "        SUSP_RACE SUSP_SEX VIC_AGE_GROUP        VIC_RACE VIC_SEX  \n",
       "0         UNKNOWN        U         25-44           WHITE       F  \n",
       "1           BLACK        U         45-64  WHITE HISPANIC       F  \n",
       "2  WHITE HISPANIC        M         45-64  WHITE HISPANIC       F  \n",
       "3           BLACK        M           <18  WHITE HISPANIC       F  \n",
       "4  WHITE HISPANIC        M         25-44           BLACK       M  "
      ]
     },
     "execution_count": 6,
     "metadata": {},
     "output_type": "execute_result"
    }
   ],
   "source": [
    "df.head()"
   ]
  },
  {
   "cell_type": "code",
   "execution_count": 7,
   "metadata": {
    "ExecuteTime": {
     "end_time": "2021-12-29T10:57:10.765440Z",
     "start_time": "2021-12-29T10:57:10.707442Z"
    },
    "hidden": true
   },
   "outputs": [
    {
     "data": {
      "text/plain": [
       "1    3647183\n",
       "2    1987476\n",
       "0     817326\n",
       "Name: LAW_CAT_CD, dtype: int64"
      ]
     },
     "execution_count": 7,
     "metadata": {},
     "output_type": "execute_result"
    }
   ],
   "source": [
    "# Count the number of row in each category\n",
    "df.LAW_CAT_CD.value_counts().sort_values(ascending=False)"
   ]
  },
  {
   "cell_type": "code",
   "execution_count": null,
   "metadata": {
    "hidden": true
   },
   "outputs": [],
   "source": [
    "# As the data is not balanced, we want create a new balanced dataset that contains 817326 row of each class\n",
    "zero,one,two = [],[],[]\n",
    "zero_c,one_c,two_c = 0,0,0\n",
    "for i in tqdm(df.iterrows()):\n",
    "    if i[1].LAW_CAT_CD == 0 and zero_c <= 817326:\n",
    "        zero.append(i[1].values)\n",
    "        zero_c += 1\n",
    "    elif i[1].LAW_CAT_CD == 1 and one_c <= 817326:\n",
    "        one.append(i[1].values)\n",
    "        one_c += 1\n",
    "    elif i[1].LAW_CAT_CD == 2 and two_c <= 817326:\n",
    "        two.append(i[1].values)\n",
    "        two_c += 1\n",
    "    if zero_c == 817326 and one_c == 817326 and two_c == 817326:\n",
    "        break\n",
    "zero_df = pd.DataFrame(zero, columns=df.columns.values.tolist())\n",
    "one_df = pd.DataFrame(one, columns=df.columns.values.tolist())\n",
    "two_df = pd.DataFrame(two, columns=df.columns.values.tolist())\n",
    "final_df = pd.concat([zero_df,one_df,two_df])\n",
    "final.to_csv(\"./ny_clean_train_balanced.csv\",index=False)"
   ]
  },
  {
   "cell_type": "markdown",
   "metadata": {
    "heading_collapsed": true,
    "hidden": true
   },
   "source": [
    "### Import the balanced dataset"
   ]
  },
  {
   "cell_type": "code",
   "execution_count": 2,
   "metadata": {
    "ExecuteTime": {
     "end_time": "2021-12-29T09:57:41.751659Z",
     "start_time": "2021-12-29T09:57:35.745658Z"
    },
    "hidden": true
   },
   "outputs": [],
   "source": [
    "# Import the data\n",
    "df = pd.read_csv('./ny_clean_train_balanced.csv')"
   ]
  },
  {
   "cell_type": "code",
   "execution_count": 3,
   "metadata": {
    "ExecuteTime": {
     "end_time": "2021-12-29T09:57:41.799659Z",
     "start_time": "2021-12-29T09:57:41.753658Z"
    },
    "hidden": true
   },
   "outputs": [
    {
     "name": "stdout",
     "output_type": "stream",
     "text": [
      "<class 'pandas.core.frame.DataFrame'>\n",
      "RangeIndex: 2451980 entries, 0 to 2451979\n",
      "Data columns (total 21 columns):\n",
      " #   Column             Dtype  \n",
      "---  ------             -----  \n",
      " 0   EVENT_TIME         int64  \n",
      " 1   year               int64  \n",
      " 2   month              int64  \n",
      " 3   day                int64  \n",
      " 4   Latitude           float64\n",
      " 5   Longitude          float64\n",
      " 6   CRM_ATPT_CPTD_CD   object \n",
      " 7   OFNS_DESC          object \n",
      " 8   ADDR_PCT_CD        float64\n",
      " 9   LAW_CAT_CD         int64  \n",
      " 10  BORO_NM            object \n",
      " 11  PREM_TYP_DESC      object \n",
      " 12  IN_PARK            int64  \n",
      " 13  IN_PUBLIC_HOUSING  int64  \n",
      " 14  IN_STATION         int64  \n",
      " 15  SUSP_AGE_GROUP     object \n",
      " 16  SUSP_RACE          object \n",
      " 17  SUSP_SEX           object \n",
      " 18  VIC_AGE_GROUP      object \n",
      " 19  VIC_RACE           object \n",
      " 20  VIC_SEX            object \n",
      "dtypes: float64(3), int64(8), object(10)\n",
      "memory usage: 392.8+ MB\n"
     ]
    },
    {
     "data": {
      "text/html": [
       "<div>\n",
       "<style scoped>\n",
       "    .dataframe tbody tr th:only-of-type {\n",
       "        vertical-align: middle;\n",
       "    }\n",
       "\n",
       "    .dataframe tbody tr th {\n",
       "        vertical-align: top;\n",
       "    }\n",
       "\n",
       "    .dataframe thead th {\n",
       "        text-align: right;\n",
       "    }\n",
       "</style>\n",
       "<table border=\"1\" class=\"dataframe\">\n",
       "  <thead>\n",
       "    <tr style=\"text-align: right;\">\n",
       "      <th></th>\n",
       "      <th>EVENT_TIME</th>\n",
       "      <th>year</th>\n",
       "      <th>month</th>\n",
       "      <th>day</th>\n",
       "      <th>Latitude</th>\n",
       "      <th>Longitude</th>\n",
       "      <th>CRM_ATPT_CPTD_CD</th>\n",
       "      <th>OFNS_DESC</th>\n",
       "      <th>ADDR_PCT_CD</th>\n",
       "      <th>LAW_CAT_CD</th>\n",
       "      <th>BORO_NM</th>\n",
       "      <th>PREM_TYP_DESC</th>\n",
       "      <th>IN_PARK</th>\n",
       "      <th>IN_PUBLIC_HOUSING</th>\n",
       "      <th>IN_STATION</th>\n",
       "      <th>SUSP_AGE_GROUP</th>\n",
       "      <th>SUSP_RACE</th>\n",
       "      <th>SUSP_SEX</th>\n",
       "      <th>VIC_AGE_GROUP</th>\n",
       "      <th>VIC_RACE</th>\n",
       "      <th>VIC_SEX</th>\n",
       "    </tr>\n",
       "  </thead>\n",
       "  <tbody>\n",
       "    <tr>\n",
       "      <th>0</th>\n",
       "      <td>17</td>\n",
       "      <td>2011</td>\n",
       "      <td>2</td>\n",
       "      <td>1</td>\n",
       "      <td>40.617674</td>\n",
       "      <td>-73.962811</td>\n",
       "      <td>COMPLETED</td>\n",
       "      <td>HARRASSMENT 2</td>\n",
       "      <td>70.0</td>\n",
       "      <td>0</td>\n",
       "      <td>BROOKLYN</td>\n",
       "      <td>STREET</td>\n",
       "      <td>0</td>\n",
       "      <td>0</td>\n",
       "      <td>0</td>\n",
       "      <td>UNKNOWN</td>\n",
       "      <td>UNKNOWN</td>\n",
       "      <td>U</td>\n",
       "      <td>18-24</td>\n",
       "      <td>WHITE</td>\n",
       "      <td>F</td>\n",
       "    </tr>\n",
       "    <tr>\n",
       "      <th>1</th>\n",
       "      <td>1</td>\n",
       "      <td>2016</td>\n",
       "      <td>9</td>\n",
       "      <td>27</td>\n",
       "      <td>40.624674</td>\n",
       "      <td>-74.027588</td>\n",
       "      <td>COMPLETED</td>\n",
       "      <td>HARRASSMENT 2</td>\n",
       "      <td>68.0</td>\n",
       "      <td>0</td>\n",
       "      <td>BROOKLYN</td>\n",
       "      <td>RESIDENCE - APT. HOUSE</td>\n",
       "      <td>0</td>\n",
       "      <td>0</td>\n",
       "      <td>0</td>\n",
       "      <td>45-64</td>\n",
       "      <td>WHITE</td>\n",
       "      <td>F</td>\n",
       "      <td>65+</td>\n",
       "      <td>WHITE</td>\n",
       "      <td>M</td>\n",
       "    </tr>\n",
       "    <tr>\n",
       "      <th>2</th>\n",
       "      <td>14</td>\n",
       "      <td>2015</td>\n",
       "      <td>12</td>\n",
       "      <td>14</td>\n",
       "      <td>40.836653</td>\n",
       "      <td>-73.907143</td>\n",
       "      <td>COMPLETED</td>\n",
       "      <td>HARRASSMENT 2</td>\n",
       "      <td>42.0</td>\n",
       "      <td>0</td>\n",
       "      <td>BRONX</td>\n",
       "      <td>RESIDENCE - PUBLIC HOUSING</td>\n",
       "      <td>0</td>\n",
       "      <td>1</td>\n",
       "      <td>0</td>\n",
       "      <td>UNKNOWN</td>\n",
       "      <td>BLACK HISPANIC</td>\n",
       "      <td>U</td>\n",
       "      <td>25-44</td>\n",
       "      <td>WHITE HISPANIC</td>\n",
       "      <td>F</td>\n",
       "    </tr>\n",
       "    <tr>\n",
       "      <th>3</th>\n",
       "      <td>14</td>\n",
       "      <td>2014</td>\n",
       "      <td>8</td>\n",
       "      <td>13</td>\n",
       "      <td>40.594460</td>\n",
       "      <td>-74.065243</td>\n",
       "      <td>COMPLETED</td>\n",
       "      <td>HARRASSMENT 2</td>\n",
       "      <td>122.0</td>\n",
       "      <td>0</td>\n",
       "      <td>STATEN ISLAND</td>\n",
       "      <td>RESIDENCE-HOUSE</td>\n",
       "      <td>0</td>\n",
       "      <td>0</td>\n",
       "      <td>0</td>\n",
       "      <td>65+</td>\n",
       "      <td>WHITE</td>\n",
       "      <td>F</td>\n",
       "      <td>25-44</td>\n",
       "      <td>WHITE</td>\n",
       "      <td>M</td>\n",
       "    </tr>\n",
       "    <tr>\n",
       "      <th>4</th>\n",
       "      <td>17</td>\n",
       "      <td>2016</td>\n",
       "      <td>10</td>\n",
       "      <td>26</td>\n",
       "      <td>40.774455</td>\n",
       "      <td>-73.932565</td>\n",
       "      <td>COMPLETED</td>\n",
       "      <td>HARRASSMENT 2</td>\n",
       "      <td>114.0</td>\n",
       "      <td>0</td>\n",
       "      <td>QUEENS</td>\n",
       "      <td>RESIDENCE - PUBLIC HOUSING</td>\n",
       "      <td>0</td>\n",
       "      <td>0</td>\n",
       "      <td>0</td>\n",
       "      <td>18-24</td>\n",
       "      <td>BLACK</td>\n",
       "      <td>M</td>\n",
       "      <td>45-64</td>\n",
       "      <td>BLACK</td>\n",
       "      <td>F</td>\n",
       "    </tr>\n",
       "  </tbody>\n",
       "</table>\n",
       "</div>"
      ],
      "text/plain": [
       "   EVENT_TIME  year  month  day   Latitude  Longitude CRM_ATPT_CPTD_CD  \\\n",
       "0          17  2011      2    1  40.617674 -73.962811        COMPLETED   \n",
       "1           1  2016      9   27  40.624674 -74.027588        COMPLETED   \n",
       "2          14  2015     12   14  40.836653 -73.907143        COMPLETED   \n",
       "3          14  2014      8   13  40.594460 -74.065243        COMPLETED   \n",
       "4          17  2016     10   26  40.774455 -73.932565        COMPLETED   \n",
       "\n",
       "       OFNS_DESC  ADDR_PCT_CD  LAW_CAT_CD        BORO_NM  \\\n",
       "0  HARRASSMENT 2         70.0           0       BROOKLYN   \n",
       "1  HARRASSMENT 2         68.0           0       BROOKLYN   \n",
       "2  HARRASSMENT 2         42.0           0          BRONX   \n",
       "3  HARRASSMENT 2        122.0           0  STATEN ISLAND   \n",
       "4  HARRASSMENT 2        114.0           0         QUEENS   \n",
       "\n",
       "                PREM_TYP_DESC  IN_PARK  IN_PUBLIC_HOUSING  IN_STATION  \\\n",
       "0                      STREET        0                  0           0   \n",
       "1      RESIDENCE - APT. HOUSE        0                  0           0   \n",
       "2  RESIDENCE - PUBLIC HOUSING        0                  1           0   \n",
       "3             RESIDENCE-HOUSE        0                  0           0   \n",
       "4  RESIDENCE - PUBLIC HOUSING        0                  0           0   \n",
       "\n",
       "  SUSP_AGE_GROUP       SUSP_RACE SUSP_SEX VIC_AGE_GROUP        VIC_RACE  \\\n",
       "0        UNKNOWN         UNKNOWN        U         18-24           WHITE   \n",
       "1          45-64           WHITE        F           65+           WHITE   \n",
       "2        UNKNOWN  BLACK HISPANIC        U         25-44  WHITE HISPANIC   \n",
       "3            65+           WHITE        F         25-44           WHITE   \n",
       "4          18-24           BLACK        M         45-64           BLACK   \n",
       "\n",
       "  VIC_SEX  \n",
       "0       F  \n",
       "1       M  \n",
       "2       F  \n",
       "3       M  \n",
       "4       F  "
      ]
     },
     "execution_count": 3,
     "metadata": {},
     "output_type": "execute_result"
    }
   ],
   "source": [
    "df.info()\n",
    "df.head()"
   ]
  },
  {
   "cell_type": "code",
   "execution_count": 4,
   "metadata": {
    "ExecuteTime": {
     "end_time": "2021-12-29T09:57:44.661283Z",
     "start_time": "2021-12-29T09:57:44.335308Z"
    },
    "hidden": true
   },
   "outputs": [
    {
     "name": "stdout",
     "output_type": "stream",
     "text": [
      "Memory usage after optimization is: 222.15 MB\n",
      "Decreased by 43.5%\n"
     ]
    }
   ],
   "source": [
    "# Define a utility function to reduce memory usage by convert the values types\n",
    "def reduce_mem_usage(df, verbose=True):\n",
    "    numerics = ['int16', 'int32', 'int64', 'float16', 'float32', 'float64']\n",
    "    start_mem = df.memory_usage().sum() / 1024**2\n",
    "    for col in df.columns:\n",
    "        col_type = df[col].dtypes\n",
    "        if col_type in numerics:\n",
    "            c_min = df[col].min()\n",
    "            c_max = df[col].max()\n",
    "            if str(col_type)[:3] == 'int':\n",
    "                if c_min > np.iinfo(np.int8).min and c_max < np.iinfo(np.int8).max:\n",
    "                    df[col] = df[col].astype(np.int8)\n",
    "                elif c_min > np.iinfo(np.int16).min and c_max < np.iinfo(np.int16).max:\n",
    "                    df[col] = df[col].astype(np.int16)\n",
    "                elif c_min > np.iinfo(np.int32).min and c_max < np.iinfo(np.int32).max:\n",
    "                    df[col] = df[col].astype(np.int32)\n",
    "                elif c_min > np.iinfo(np.int64).min and c_max < np.iinfo(np.int64).max:\n",
    "                    df[col] = df[col].astype(np.int64)\n",
    "            else:\n",
    "                if c_min > np.finfo(np.float16).min and c_max < np.finfo(np.float16).max:\n",
    "                    df[col] = df[col].astype(np.float16)\n",
    "                elif c_min > np.finfo(np.float32).min and c_max < np.finfo(np.float32).max:\n",
    "                    df[col] = df[col].astype(np.float32)\n",
    "                else:\n",
    "                    df[col] = df[col].astype(np.float64)\n",
    "    end_mem = df.memory_usage().sum() / 1024**2\n",
    "    print('Memory usage after optimization is: {:.2f} MB'.format(end_mem))\n",
    "    print('Decreased by {:.1f}%'.format(100 * (start_mem - end_mem) / start_mem))\n",
    "    return df\n",
    "df = reduce_mem_usage(df)"
   ]
  },
  {
   "cell_type": "markdown",
   "metadata": {
    "heading_collapsed": true
   },
   "source": [
    "## Data preparing"
   ]
  },
  {
   "cell_type": "markdown",
   "metadata": {
    "hidden": true
   },
   "source": [
    "### Select only relevant columns\n",
    " "
   ]
  },
  {
   "cell_type": "code",
   "execution_count": 5,
   "metadata": {
    "ExecuteTime": {
     "end_time": "2021-12-29T09:57:49.525450Z",
     "start_time": "2021-12-29T09:57:49.250450Z"
    },
    "hidden": true,
    "scrolled": true
   },
   "outputs": [
    {
     "name": "stdout",
     "output_type": "stream",
     "text": [
      "<class 'pandas.core.frame.DataFrame'>\n",
      "RangeIndex: 2451980 entries, 0 to 2451979\n",
      "Data columns (total 17 columns):\n",
      " #   Column             Dtype  \n",
      "---  ------             -----  \n",
      " 0   EVENT_TIME         int8   \n",
      " 1   ADDR_PCT_CD        float16\n",
      " 2   month              int8   \n",
      " 3   day                int8   \n",
      " 4   Latitude           float16\n",
      " 5   Longitude          float16\n",
      " 6   BORO_NM            object \n",
      " 7   IN_PARK            int8   \n",
      " 8   IN_PUBLIC_HOUSING  int8   \n",
      " 9   IN_STATION         int8   \n",
      " 10  VIC_AGE_GROUP      object \n",
      " 11  VIC_RACE           object \n",
      " 12  VIC_SEX            object \n",
      " 13  LAW_CAT_CD         int8   \n",
      " 14  SUSP_AGE_GROUP     object \n",
      " 15  SUSP_RACE          object \n",
      " 16  SUSP_SEX           object \n",
      "dtypes: float16(3), int8(7), object(7)\n",
      "memory usage: 161.3+ MB\n"
     ]
    },
    {
     "data": {
      "text/html": [
       "<div>\n",
       "<style scoped>\n",
       "    .dataframe tbody tr th:only-of-type {\n",
       "        vertical-align: middle;\n",
       "    }\n",
       "\n",
       "    .dataframe tbody tr th {\n",
       "        vertical-align: top;\n",
       "    }\n",
       "\n",
       "    .dataframe thead th {\n",
       "        text-align: right;\n",
       "    }\n",
       "</style>\n",
       "<table border=\"1\" class=\"dataframe\">\n",
       "  <thead>\n",
       "    <tr style=\"text-align: right;\">\n",
       "      <th></th>\n",
       "      <th>EVENT_TIME</th>\n",
       "      <th>ADDR_PCT_CD</th>\n",
       "      <th>month</th>\n",
       "      <th>day</th>\n",
       "      <th>Latitude</th>\n",
       "      <th>Longitude</th>\n",
       "      <th>BORO_NM</th>\n",
       "      <th>IN_PARK</th>\n",
       "      <th>IN_PUBLIC_HOUSING</th>\n",
       "      <th>IN_STATION</th>\n",
       "      <th>VIC_AGE_GROUP</th>\n",
       "      <th>VIC_RACE</th>\n",
       "      <th>VIC_SEX</th>\n",
       "      <th>LAW_CAT_CD</th>\n",
       "      <th>SUSP_AGE_GROUP</th>\n",
       "      <th>SUSP_RACE</th>\n",
       "      <th>SUSP_SEX</th>\n",
       "    </tr>\n",
       "  </thead>\n",
       "  <tbody>\n",
       "    <tr>\n",
       "      <th>0</th>\n",
       "      <td>17</td>\n",
       "      <td>70.0</td>\n",
       "      <td>2</td>\n",
       "      <td>1</td>\n",
       "      <td>40.62500</td>\n",
       "      <td>-73.9375</td>\n",
       "      <td>BROOKLYN</td>\n",
       "      <td>0</td>\n",
       "      <td>0</td>\n",
       "      <td>0</td>\n",
       "      <td>18-24</td>\n",
       "      <td>WHITE</td>\n",
       "      <td>F</td>\n",
       "      <td>0</td>\n",
       "      <td>UNKNOWN</td>\n",
       "      <td>UNKNOWN</td>\n",
       "      <td>U</td>\n",
       "    </tr>\n",
       "    <tr>\n",
       "      <th>1</th>\n",
       "      <td>1</td>\n",
       "      <td>68.0</td>\n",
       "      <td>9</td>\n",
       "      <td>27</td>\n",
       "      <td>40.62500</td>\n",
       "      <td>-74.0000</td>\n",
       "      <td>BROOKLYN</td>\n",
       "      <td>0</td>\n",
       "      <td>0</td>\n",
       "      <td>0</td>\n",
       "      <td>65+</td>\n",
       "      <td>WHITE</td>\n",
       "      <td>M</td>\n",
       "      <td>0</td>\n",
       "      <td>45-64</td>\n",
       "      <td>WHITE</td>\n",
       "      <td>F</td>\n",
       "    </tr>\n",
       "    <tr>\n",
       "      <th>2</th>\n",
       "      <td>14</td>\n",
       "      <td>42.0</td>\n",
       "      <td>12</td>\n",
       "      <td>14</td>\n",
       "      <td>40.84375</td>\n",
       "      <td>-73.9375</td>\n",
       "      <td>BRONX</td>\n",
       "      <td>0</td>\n",
       "      <td>1</td>\n",
       "      <td>0</td>\n",
       "      <td>25-44</td>\n",
       "      <td>WHITE HISPANIC</td>\n",
       "      <td>F</td>\n",
       "      <td>0</td>\n",
       "      <td>UNKNOWN</td>\n",
       "      <td>BLACK HISPANIC</td>\n",
       "      <td>U</td>\n",
       "    </tr>\n",
       "    <tr>\n",
       "      <th>3</th>\n",
       "      <td>14</td>\n",
       "      <td>122.0</td>\n",
       "      <td>8</td>\n",
       "      <td>13</td>\n",
       "      <td>40.59375</td>\n",
       "      <td>-74.0625</td>\n",
       "      <td>STATEN ISLAND</td>\n",
       "      <td>0</td>\n",
       "      <td>0</td>\n",
       "      <td>0</td>\n",
       "      <td>25-44</td>\n",
       "      <td>WHITE</td>\n",
       "      <td>M</td>\n",
       "      <td>0</td>\n",
       "      <td>65+</td>\n",
       "      <td>WHITE</td>\n",
       "      <td>F</td>\n",
       "    </tr>\n",
       "    <tr>\n",
       "      <th>4</th>\n",
       "      <td>17</td>\n",
       "      <td>114.0</td>\n",
       "      <td>10</td>\n",
       "      <td>26</td>\n",
       "      <td>40.78125</td>\n",
       "      <td>-73.9375</td>\n",
       "      <td>QUEENS</td>\n",
       "      <td>0</td>\n",
       "      <td>0</td>\n",
       "      <td>0</td>\n",
       "      <td>45-64</td>\n",
       "      <td>BLACK</td>\n",
       "      <td>F</td>\n",
       "      <td>0</td>\n",
       "      <td>18-24</td>\n",
       "      <td>BLACK</td>\n",
       "      <td>M</td>\n",
       "    </tr>\n",
       "  </tbody>\n",
       "</table>\n",
       "</div>"
      ],
      "text/plain": [
       "   EVENT_TIME  ADDR_PCT_CD  month  day  Latitude  Longitude        BORO_NM  \\\n",
       "0          17         70.0      2    1  40.62500   -73.9375       BROOKLYN   \n",
       "1           1         68.0      9   27  40.62500   -74.0000       BROOKLYN   \n",
       "2          14         42.0     12   14  40.84375   -73.9375          BRONX   \n",
       "3          14        122.0      8   13  40.59375   -74.0625  STATEN ISLAND   \n",
       "4          17        114.0     10   26  40.78125   -73.9375         QUEENS   \n",
       "\n",
       "   IN_PARK  IN_PUBLIC_HOUSING  IN_STATION VIC_AGE_GROUP        VIC_RACE  \\\n",
       "0        0                  0           0         18-24           WHITE   \n",
       "1        0                  0           0           65+           WHITE   \n",
       "2        0                  1           0         25-44  WHITE HISPANIC   \n",
       "3        0                  0           0         25-44           WHITE   \n",
       "4        0                  0           0         45-64           BLACK   \n",
       "\n",
       "  VIC_SEX  LAW_CAT_CD SUSP_AGE_GROUP       SUSP_RACE SUSP_SEX  \n",
       "0       F           0        UNKNOWN         UNKNOWN        U  \n",
       "1       M           0          45-64           WHITE        F  \n",
       "2       F           0        UNKNOWN  BLACK HISPANIC        U  \n",
       "3       M           0            65+           WHITE        F  \n",
       "4       F           0          18-24           BLACK        M  "
      ]
     },
     "execution_count": 5,
     "metadata": {},
     "output_type": "execute_result"
    }
   ],
   "source": [
    "# Set the list of features to include in Machine Learning Model\n",
    "feature_lst=['EVENT_TIME','ADDR_PCT_CD', 'month', 'day', 'Latitude',\n",
    "       'Longitude', 'BORO_NM',\n",
    "       'IN_PARK', 'IN_PUBLIC_HOUSING', 'IN_STATION', 'VIC_AGE_GROUP',\n",
    "       'VIC_RACE', 'VIC_SEX','LAW_CAT_CD', 'SUSP_AGE_GROUP', 'SUSP_RACE', 'SUSP_SEX']\n",
    "\n",
    "df_sel=df[feature_lst].copy()\n",
    "df_sel.info()\n",
    "df_sel.head()"
   ]
  },
  {
   "cell_type": "code",
   "execution_count": 7,
   "metadata": {
    "ExecuteTime": {
     "end_time": "2021-12-29T09:57:58.595321Z",
     "start_time": "2021-12-29T09:57:58.587349Z"
    },
    "hidden": true
   },
   "outputs": [
    {
     "data": {
      "text/plain": [
       "(2451980, 17)"
      ]
     },
     "execution_count": 7,
     "metadata": {},
     "output_type": "execute_result"
    }
   ],
   "source": [
    "print(df_sel.shape)\n",
    "# double check that the data is balanced\n",
    "df_sel.LAW_CAT_CD.value_counts().sort_values(ascending=False)"
   ]
  },
  {
   "cell_type": "code",
   "execution_count": null,
   "metadata": {
    "ExecuteTime": {
     "end_time": "2021-12-28T15:04:56.490626Z",
     "start_time": "2021-12-28T15:04:56.490626Z"
    },
    "hidden": true
   },
   "outputs": [],
   "source": [
    "# Draw a corrolation matrix of the variables\n",
    "corr = df_sel.corr()\n",
    "\n",
    "plt.figure(figsize = (10,8))\n",
    "sns.heatmap(corr, cmap = \"coolwarm\", linewidth = 2, linecolor = \"white\")\n",
    "plt.title(\"Correlation\")\n",
    "plt.show()"
   ]
  },
  {
   "cell_type": "markdown",
   "metadata": {
    "hidden": true
   },
   "source": [
    "### Deal with categorical data: pd.get_dummies()"
   ]
  },
  {
   "cell_type": "code",
   "execution_count": 9,
   "metadata": {
    "ExecuteTime": {
     "end_time": "2021-12-29T09:58:07.062884Z",
     "start_time": "2021-12-29T09:58:05.331848Z"
    },
    "hidden": true
   },
   "outputs": [
    {
     "name": "stdout",
     "output_type": "stream",
     "text": [
      "<class 'pandas.core.frame.DataFrame'>\n",
      "RangeIndex: 2451980 entries, 0 to 2451979\n",
      "Data columns (total 45 columns):\n",
      " #   Column                              Dtype  \n",
      "---  ------                              -----  \n",
      " 0   EVENT_TIME                          int8   \n",
      " 1   ADDR_PCT_CD                         float16\n",
      " 2   month                               int8   \n",
      " 3   day                                 int8   \n",
      " 4   Latitude                            float16\n",
      " 5   Longitude                           float16\n",
      " 6   IN_PARK                             int8   \n",
      " 7   IN_PUBLIC_HOUSING                   int8   \n",
      " 8   IN_STATION                          int8   \n",
      " 9   LAW_CAT_CD                          int8   \n",
      " 10  BORO_NM_BROOKLYN                    uint8  \n",
      " 11  BORO_NM_MANHATTAN                   uint8  \n",
      " 12  BORO_NM_QUEENS                      uint8  \n",
      " 13  BORO_NM_STATEN ISLAND               uint8  \n",
      " 14  BORO_NM_UNKNOWN                     uint8  \n",
      " 15  VIC_AGE_GROUP_25-44                 uint8  \n",
      " 16  VIC_AGE_GROUP_45-64                 uint8  \n",
      " 17  VIC_AGE_GROUP_65+                   uint8  \n",
      " 18  VIC_AGE_GROUP_<18                   uint8  \n",
      " 19  VIC_AGE_GROUP_UNKNOWN               uint8  \n",
      " 20  VIC_RACE_ASIAN / PACIFIC ISLANDER   uint8  \n",
      " 21  VIC_RACE_BLACK                      uint8  \n",
      " 22  VIC_RACE_BLACK HISPANIC             uint8  \n",
      " 23  VIC_RACE_OTHER                      uint8  \n",
      " 24  VIC_RACE_UNKNOWN                    uint8  \n",
      " 25  VIC_RACE_WHITE                      uint8  \n",
      " 26  VIC_RACE_WHITE HISPANIC             uint8  \n",
      " 27  VIC_SEX_E                           uint8  \n",
      " 28  VIC_SEX_F                           uint8  \n",
      " 29  VIC_SEX_M                           uint8  \n",
      " 30  VIC_SEX_U                           uint8  \n",
      " 31  SUSP_AGE_GROUP_25-44                uint8  \n",
      " 32  SUSP_AGE_GROUP_45-64                uint8  \n",
      " 33  SUSP_AGE_GROUP_65+                  uint8  \n",
      " 34  SUSP_AGE_GROUP_<18                  uint8  \n",
      " 35  SUSP_AGE_GROUP_UNKNOWN              uint8  \n",
      " 36  SUSP_RACE_ASIAN / PACIFIC ISLANDER  uint8  \n",
      " 37  SUSP_RACE_BLACK                     uint8  \n",
      " 38  SUSP_RACE_BLACK HISPANIC            uint8  \n",
      " 39  SUSP_RACE_OTHER                     uint8  \n",
      " 40  SUSP_RACE_UNKNOWN                   uint8  \n",
      " 41  SUSP_RACE_WHITE                     uint8  \n",
      " 42  SUSP_RACE_WHITE HISPANIC            uint8  \n",
      " 43  SUSP_SEX_M                          uint8  \n",
      " 44  SUSP_SEX_U                          uint8  \n",
      "dtypes: float16(3), int8(7), uint8(35)\n",
      "memory usage: 112.2 MB\n"
     ]
    }
   ],
   "source": [
    "# Generate dummies for categorical data\n",
    "df_state_dummy = pd.get_dummies(df_sel,drop_first=True)\n",
    "\n",
    "df_state_dummy.info()"
   ]
  },
  {
   "cell_type": "code",
   "execution_count": 10,
   "metadata": {
    "ExecuteTime": {
     "end_time": "2021-12-29T09:58:07.109890Z",
     "start_time": "2021-12-29T09:58:07.065850Z"
    },
    "hidden": true
   },
   "outputs": [
    {
     "data": {
      "text/html": [
       "<div>\n",
       "<style scoped>\n",
       "    .dataframe tbody tr th:only-of-type {\n",
       "        vertical-align: middle;\n",
       "    }\n",
       "\n",
       "    .dataframe tbody tr th {\n",
       "        vertical-align: top;\n",
       "    }\n",
       "\n",
       "    .dataframe thead th {\n",
       "        text-align: right;\n",
       "    }\n",
       "</style>\n",
       "<table border=\"1\" class=\"dataframe\">\n",
       "  <thead>\n",
       "    <tr style=\"text-align: right;\">\n",
       "      <th></th>\n",
       "      <th>EVENT_TIME</th>\n",
       "      <th>ADDR_PCT_CD</th>\n",
       "      <th>month</th>\n",
       "      <th>day</th>\n",
       "      <th>Latitude</th>\n",
       "      <th>Longitude</th>\n",
       "      <th>IN_PARK</th>\n",
       "      <th>IN_PUBLIC_HOUSING</th>\n",
       "      <th>IN_STATION</th>\n",
       "      <th>LAW_CAT_CD</th>\n",
       "      <th>BORO_NM_BROOKLYN</th>\n",
       "      <th>BORO_NM_MANHATTAN</th>\n",
       "      <th>BORO_NM_QUEENS</th>\n",
       "      <th>BORO_NM_STATEN ISLAND</th>\n",
       "      <th>BORO_NM_UNKNOWN</th>\n",
       "      <th>VIC_AGE_GROUP_25-44</th>\n",
       "      <th>VIC_AGE_GROUP_45-64</th>\n",
       "      <th>VIC_AGE_GROUP_65+</th>\n",
       "      <th>VIC_AGE_GROUP_&lt;18</th>\n",
       "      <th>VIC_AGE_GROUP_UNKNOWN</th>\n",
       "      <th>VIC_RACE_ASIAN / PACIFIC ISLANDER</th>\n",
       "      <th>VIC_RACE_BLACK</th>\n",
       "      <th>VIC_RACE_BLACK HISPANIC</th>\n",
       "      <th>VIC_RACE_OTHER</th>\n",
       "      <th>VIC_RACE_UNKNOWN</th>\n",
       "      <th>VIC_RACE_WHITE</th>\n",
       "      <th>VIC_RACE_WHITE HISPANIC</th>\n",
       "      <th>VIC_SEX_E</th>\n",
       "      <th>VIC_SEX_F</th>\n",
       "      <th>VIC_SEX_M</th>\n",
       "      <th>VIC_SEX_U</th>\n",
       "      <th>SUSP_AGE_GROUP_25-44</th>\n",
       "      <th>SUSP_AGE_GROUP_45-64</th>\n",
       "      <th>SUSP_AGE_GROUP_65+</th>\n",
       "      <th>SUSP_AGE_GROUP_&lt;18</th>\n",
       "      <th>SUSP_AGE_GROUP_UNKNOWN</th>\n",
       "      <th>SUSP_RACE_ASIAN / PACIFIC ISLANDER</th>\n",
       "      <th>SUSP_RACE_BLACK</th>\n",
       "      <th>SUSP_RACE_BLACK HISPANIC</th>\n",
       "      <th>SUSP_RACE_OTHER</th>\n",
       "      <th>SUSP_RACE_UNKNOWN</th>\n",
       "      <th>SUSP_RACE_WHITE</th>\n",
       "      <th>SUSP_RACE_WHITE HISPANIC</th>\n",
       "      <th>SUSP_SEX_M</th>\n",
       "      <th>SUSP_SEX_U</th>\n",
       "    </tr>\n",
       "  </thead>\n",
       "  <tbody>\n",
       "    <tr>\n",
       "      <th>0</th>\n",
       "      <td>17</td>\n",
       "      <td>70.0</td>\n",
       "      <td>2</td>\n",
       "      <td>1</td>\n",
       "      <td>40.62500</td>\n",
       "      <td>-73.9375</td>\n",
       "      <td>0</td>\n",
       "      <td>0</td>\n",
       "      <td>0</td>\n",
       "      <td>0</td>\n",
       "      <td>1</td>\n",
       "      <td>0</td>\n",
       "      <td>0</td>\n",
       "      <td>0</td>\n",
       "      <td>0</td>\n",
       "      <td>0</td>\n",
       "      <td>0</td>\n",
       "      <td>0</td>\n",
       "      <td>0</td>\n",
       "      <td>0</td>\n",
       "      <td>0</td>\n",
       "      <td>0</td>\n",
       "      <td>0</td>\n",
       "      <td>0</td>\n",
       "      <td>0</td>\n",
       "      <td>1</td>\n",
       "      <td>0</td>\n",
       "      <td>0</td>\n",
       "      <td>1</td>\n",
       "      <td>0</td>\n",
       "      <td>0</td>\n",
       "      <td>0</td>\n",
       "      <td>0</td>\n",
       "      <td>0</td>\n",
       "      <td>0</td>\n",
       "      <td>1</td>\n",
       "      <td>0</td>\n",
       "      <td>0</td>\n",
       "      <td>0</td>\n",
       "      <td>0</td>\n",
       "      <td>1</td>\n",
       "      <td>0</td>\n",
       "      <td>0</td>\n",
       "      <td>0</td>\n",
       "      <td>1</td>\n",
       "    </tr>\n",
       "    <tr>\n",
       "      <th>1</th>\n",
       "      <td>1</td>\n",
       "      <td>68.0</td>\n",
       "      <td>9</td>\n",
       "      <td>27</td>\n",
       "      <td>40.62500</td>\n",
       "      <td>-74.0000</td>\n",
       "      <td>0</td>\n",
       "      <td>0</td>\n",
       "      <td>0</td>\n",
       "      <td>0</td>\n",
       "      <td>1</td>\n",
       "      <td>0</td>\n",
       "      <td>0</td>\n",
       "      <td>0</td>\n",
       "      <td>0</td>\n",
       "      <td>0</td>\n",
       "      <td>0</td>\n",
       "      <td>1</td>\n",
       "      <td>0</td>\n",
       "      <td>0</td>\n",
       "      <td>0</td>\n",
       "      <td>0</td>\n",
       "      <td>0</td>\n",
       "      <td>0</td>\n",
       "      <td>0</td>\n",
       "      <td>1</td>\n",
       "      <td>0</td>\n",
       "      <td>0</td>\n",
       "      <td>0</td>\n",
       "      <td>1</td>\n",
       "      <td>0</td>\n",
       "      <td>0</td>\n",
       "      <td>1</td>\n",
       "      <td>0</td>\n",
       "      <td>0</td>\n",
       "      <td>0</td>\n",
       "      <td>0</td>\n",
       "      <td>0</td>\n",
       "      <td>0</td>\n",
       "      <td>0</td>\n",
       "      <td>0</td>\n",
       "      <td>1</td>\n",
       "      <td>0</td>\n",
       "      <td>0</td>\n",
       "      <td>0</td>\n",
       "    </tr>\n",
       "    <tr>\n",
       "      <th>2</th>\n",
       "      <td>14</td>\n",
       "      <td>42.0</td>\n",
       "      <td>12</td>\n",
       "      <td>14</td>\n",
       "      <td>40.84375</td>\n",
       "      <td>-73.9375</td>\n",
       "      <td>0</td>\n",
       "      <td>1</td>\n",
       "      <td>0</td>\n",
       "      <td>0</td>\n",
       "      <td>0</td>\n",
       "      <td>0</td>\n",
       "      <td>0</td>\n",
       "      <td>0</td>\n",
       "      <td>0</td>\n",
       "      <td>1</td>\n",
       "      <td>0</td>\n",
       "      <td>0</td>\n",
       "      <td>0</td>\n",
       "      <td>0</td>\n",
       "      <td>0</td>\n",
       "      <td>0</td>\n",
       "      <td>0</td>\n",
       "      <td>0</td>\n",
       "      <td>0</td>\n",
       "      <td>0</td>\n",
       "      <td>1</td>\n",
       "      <td>0</td>\n",
       "      <td>1</td>\n",
       "      <td>0</td>\n",
       "      <td>0</td>\n",
       "      <td>0</td>\n",
       "      <td>0</td>\n",
       "      <td>0</td>\n",
       "      <td>0</td>\n",
       "      <td>1</td>\n",
       "      <td>0</td>\n",
       "      <td>0</td>\n",
       "      <td>1</td>\n",
       "      <td>0</td>\n",
       "      <td>0</td>\n",
       "      <td>0</td>\n",
       "      <td>0</td>\n",
       "      <td>0</td>\n",
       "      <td>1</td>\n",
       "    </tr>\n",
       "    <tr>\n",
       "      <th>3</th>\n",
       "      <td>14</td>\n",
       "      <td>122.0</td>\n",
       "      <td>8</td>\n",
       "      <td>13</td>\n",
       "      <td>40.59375</td>\n",
       "      <td>-74.0625</td>\n",
       "      <td>0</td>\n",
       "      <td>0</td>\n",
       "      <td>0</td>\n",
       "      <td>0</td>\n",
       "      <td>0</td>\n",
       "      <td>0</td>\n",
       "      <td>0</td>\n",
       "      <td>1</td>\n",
       "      <td>0</td>\n",
       "      <td>1</td>\n",
       "      <td>0</td>\n",
       "      <td>0</td>\n",
       "      <td>0</td>\n",
       "      <td>0</td>\n",
       "      <td>0</td>\n",
       "      <td>0</td>\n",
       "      <td>0</td>\n",
       "      <td>0</td>\n",
       "      <td>0</td>\n",
       "      <td>1</td>\n",
       "      <td>0</td>\n",
       "      <td>0</td>\n",
       "      <td>0</td>\n",
       "      <td>1</td>\n",
       "      <td>0</td>\n",
       "      <td>0</td>\n",
       "      <td>0</td>\n",
       "      <td>1</td>\n",
       "      <td>0</td>\n",
       "      <td>0</td>\n",
       "      <td>0</td>\n",
       "      <td>0</td>\n",
       "      <td>0</td>\n",
       "      <td>0</td>\n",
       "      <td>0</td>\n",
       "      <td>1</td>\n",
       "      <td>0</td>\n",
       "      <td>0</td>\n",
       "      <td>0</td>\n",
       "    </tr>\n",
       "    <tr>\n",
       "      <th>4</th>\n",
       "      <td>17</td>\n",
       "      <td>114.0</td>\n",
       "      <td>10</td>\n",
       "      <td>26</td>\n",
       "      <td>40.78125</td>\n",
       "      <td>-73.9375</td>\n",
       "      <td>0</td>\n",
       "      <td>0</td>\n",
       "      <td>0</td>\n",
       "      <td>0</td>\n",
       "      <td>0</td>\n",
       "      <td>0</td>\n",
       "      <td>1</td>\n",
       "      <td>0</td>\n",
       "      <td>0</td>\n",
       "      <td>0</td>\n",
       "      <td>1</td>\n",
       "      <td>0</td>\n",
       "      <td>0</td>\n",
       "      <td>0</td>\n",
       "      <td>0</td>\n",
       "      <td>1</td>\n",
       "      <td>0</td>\n",
       "      <td>0</td>\n",
       "      <td>0</td>\n",
       "      <td>0</td>\n",
       "      <td>0</td>\n",
       "      <td>0</td>\n",
       "      <td>1</td>\n",
       "      <td>0</td>\n",
       "      <td>0</td>\n",
       "      <td>0</td>\n",
       "      <td>0</td>\n",
       "      <td>0</td>\n",
       "      <td>0</td>\n",
       "      <td>0</td>\n",
       "      <td>0</td>\n",
       "      <td>1</td>\n",
       "      <td>0</td>\n",
       "      <td>0</td>\n",
       "      <td>0</td>\n",
       "      <td>0</td>\n",
       "      <td>0</td>\n",
       "      <td>1</td>\n",
       "      <td>0</td>\n",
       "    </tr>\n",
       "  </tbody>\n",
       "</table>\n",
       "</div>"
      ],
      "text/plain": [
       "   EVENT_TIME  ADDR_PCT_CD  month  day  Latitude  Longitude  IN_PARK  \\\n",
       "0          17         70.0      2    1  40.62500   -73.9375        0   \n",
       "1           1         68.0      9   27  40.62500   -74.0000        0   \n",
       "2          14         42.0     12   14  40.84375   -73.9375        0   \n",
       "3          14        122.0      8   13  40.59375   -74.0625        0   \n",
       "4          17        114.0     10   26  40.78125   -73.9375        0   \n",
       "\n",
       "   IN_PUBLIC_HOUSING  IN_STATION  LAW_CAT_CD  BORO_NM_BROOKLYN  \\\n",
       "0                  0           0           0                 1   \n",
       "1                  0           0           0                 1   \n",
       "2                  1           0           0                 0   \n",
       "3                  0           0           0                 0   \n",
       "4                  0           0           0                 0   \n",
       "\n",
       "   BORO_NM_MANHATTAN  BORO_NM_QUEENS  BORO_NM_STATEN ISLAND  BORO_NM_UNKNOWN  \\\n",
       "0                  0               0                      0                0   \n",
       "1                  0               0                      0                0   \n",
       "2                  0               0                      0                0   \n",
       "3                  0               0                      1                0   \n",
       "4                  0               1                      0                0   \n",
       "\n",
       "   VIC_AGE_GROUP_25-44  VIC_AGE_GROUP_45-64  VIC_AGE_GROUP_65+  \\\n",
       "0                    0                    0                  0   \n",
       "1                    0                    0                  1   \n",
       "2                    1                    0                  0   \n",
       "3                    1                    0                  0   \n",
       "4                    0                    1                  0   \n",
       "\n",
       "   VIC_AGE_GROUP_<18  VIC_AGE_GROUP_UNKNOWN  \\\n",
       "0                  0                      0   \n",
       "1                  0                      0   \n",
       "2                  0                      0   \n",
       "3                  0                      0   \n",
       "4                  0                      0   \n",
       "\n",
       "   VIC_RACE_ASIAN / PACIFIC ISLANDER  VIC_RACE_BLACK  VIC_RACE_BLACK HISPANIC  \\\n",
       "0                                  0               0                        0   \n",
       "1                                  0               0                        0   \n",
       "2                                  0               0                        0   \n",
       "3                                  0               0                        0   \n",
       "4                                  0               1                        0   \n",
       "\n",
       "   VIC_RACE_OTHER  VIC_RACE_UNKNOWN  VIC_RACE_WHITE  VIC_RACE_WHITE HISPANIC  \\\n",
       "0               0                 0               1                        0   \n",
       "1               0                 0               1                        0   \n",
       "2               0                 0               0                        1   \n",
       "3               0                 0               1                        0   \n",
       "4               0                 0               0                        0   \n",
       "\n",
       "   VIC_SEX_E  VIC_SEX_F  VIC_SEX_M  VIC_SEX_U  SUSP_AGE_GROUP_25-44  \\\n",
       "0          0          1          0          0                     0   \n",
       "1          0          0          1          0                     0   \n",
       "2          0          1          0          0                     0   \n",
       "3          0          0          1          0                     0   \n",
       "4          0          1          0          0                     0   \n",
       "\n",
       "   SUSP_AGE_GROUP_45-64  SUSP_AGE_GROUP_65+  SUSP_AGE_GROUP_<18  \\\n",
       "0                     0                   0                   0   \n",
       "1                     1                   0                   0   \n",
       "2                     0                   0                   0   \n",
       "3                     0                   1                   0   \n",
       "4                     0                   0                   0   \n",
       "\n",
       "   SUSP_AGE_GROUP_UNKNOWN  SUSP_RACE_ASIAN / PACIFIC ISLANDER  \\\n",
       "0                       1                                   0   \n",
       "1                       0                                   0   \n",
       "2                       1                                   0   \n",
       "3                       0                                   0   \n",
       "4                       0                                   0   \n",
       "\n",
       "   SUSP_RACE_BLACK  SUSP_RACE_BLACK HISPANIC  SUSP_RACE_OTHER  \\\n",
       "0                0                         0                0   \n",
       "1                0                         0                0   \n",
       "2                0                         1                0   \n",
       "3                0                         0                0   \n",
       "4                1                         0                0   \n",
       "\n",
       "   SUSP_RACE_UNKNOWN  SUSP_RACE_WHITE  SUSP_RACE_WHITE HISPANIC  SUSP_SEX_M  \\\n",
       "0                  1                0                         0           0   \n",
       "1                  0                1                         0           0   \n",
       "2                  0                0                         0           0   \n",
       "3                  0                1                         0           0   \n",
       "4                  0                0                         0           1   \n",
       "\n",
       "   SUSP_SEX_U  \n",
       "0           1  \n",
       "1           0  \n",
       "2           1  \n",
       "3           0  \n",
       "4           0  "
      ]
     },
     "execution_count": 10,
     "metadata": {},
     "output_type": "execute_result"
    }
   ],
   "source": [
    "df_state_dummy.head()"
   ]
  },
  {
   "cell_type": "markdown",
   "metadata": {
    "hidden": true
   },
   "source": [
    "### Split the data into train and test"
   ]
  },
  {
   "cell_type": "code",
   "execution_count": 11,
   "metadata": {
    "ExecuteTime": {
     "end_time": "2021-12-29T09:58:18.885742Z",
     "start_time": "2021-12-29T09:58:18.722651Z"
    },
    "hidden": true
   },
   "outputs": [],
   "source": [
    "# Assign the data\n",
    "df=df_state_dummy\n",
    "\n",
    "# Set the target for the prediction\n",
    "target='LAW_CAT_CD'\n",
    "\n",
    "# Create arrays for the features and the response variable\n",
    "\n",
    "# set X and y\n",
    "y = df[target]\n",
    "X = df.drop(target, axis=1)"
   ]
  },
  {
   "cell_type": "code",
   "execution_count": 12,
   "metadata": {
    "ExecuteTime": {
     "end_time": "2021-12-29T09:58:19.027152Z",
     "start_time": "2021-12-29T09:58:18.994151Z"
    },
    "hidden": true
   },
   "outputs": [
    {
     "data": {
      "text/plain": [
       "array([0, 1, 2], dtype=int8)"
      ]
     },
     "execution_count": 12,
     "metadata": {},
     "output_type": "execute_result"
    }
   ],
   "source": [
    "y.unique()\n",
    "y.value_counts()"
   ]
  },
  {
   "cell_type": "code",
   "execution_count": 14,
   "metadata": {
    "ExecuteTime": {
     "end_time": "2021-12-29T09:58:24.442814Z",
     "start_time": "2021-12-29T09:58:22.764727Z"
    },
    "hidden": true
   },
   "outputs": [],
   "source": [
    "X_train, X_test, y_train, y_test = train_test_split(X, y, test_size=0.2,shuffle=True, random_state=21, stratify=y)"
   ]
  },
  {
   "cell_type": "markdown",
   "metadata": {
    "heading_collapsed": true
   },
   "source": [
    "## Utils"
   ]
  },
  {
   "cell_type": "code",
   "execution_count": 8,
   "metadata": {
    "ExecuteTime": {
     "end_time": "2021-12-29T11:15:16.068416Z",
     "start_time": "2021-12-29T11:15:16.054383Z"
    },
    "hidden": true
   },
   "outputs": [],
   "source": [
    "def plot_cm(y_pred,y_test,algorithm,figure_name):\n",
    "    mat_RF = confusion_matrix(y_pred,y_test)\n",
    "    plt.figure(figsize=(16,4))\n",
    "    sns.heatmap(mat_RF, square=True, annot=True, fmt='d', cbar=False,xticklabels=[0,1,2],yticklabels=[0,1,2])\n",
    "    plt.xlabel('True labels')\n",
    "    plt.ylabel('predicted labels')\n",
    "    plt.title(algorithm)\n",
    "    plt.savefig(figure_name)"
   ]
  },
  {
   "cell_type": "code",
   "execution_count": 9,
   "metadata": {
    "ExecuteTime": {
     "end_time": "2021-12-29T11:17:46.714596Z",
     "start_time": "2021-12-29T11:17:46.697567Z"
    },
    "hidden": true
   },
   "outputs": [],
   "source": [
    "def plot_roc(y_test, model, figure_name):\n",
    "    pl = skplt.metrics.plot_roc(y_test, model.predict_proba(X_test), figsize=(12,6))\n",
    "    plt.show()\n",
    "    pl.figure.savefig(figure_name)"
   ]
  },
  {
   "cell_type": "code",
   "execution_count": 10,
   "metadata": {
    "ExecuteTime": {
     "end_time": "2021-12-29T11:23:21.594924Z",
     "start_time": "2021-12-29T11:23:21.582946Z"
    },
    "hidden": true
   },
   "outputs": [],
   "source": [
    "def save_model(model, model_name,is_tree=False):\n",
    "    joblib.dump(model.estimators_[0] if is_tree else model,f'{model_name}.joblib')\n",
    "    print(f\"Model size: {np.round(os.path.getsize(f'{model_name}.joblib') / 1024 / 1024, 2) } MB\")"
   ]
  },
  {
   "cell_type": "markdown",
   "metadata": {
    "heading_collapsed": true
   },
   "source": [
    "## Modeling: Random Forest"
   ]
  },
  {
   "cell_type": "code",
   "execution_count": 19,
   "metadata": {
    "ExecuteTime": {
     "end_time": "2021-12-28T17:18:14.234770Z",
     "start_time": "2021-12-28T17:14:45.279773Z"
    },
    "hidden": true
   },
   "outputs": [
    {
     "name": "stderr",
     "output_type": "stream",
     "text": [
      "[Parallel(n_jobs=-1)]: Using backend ThreadingBackend with 8 concurrent workers.\n"
     ]
    },
    {
     "name": "stdout",
     "output_type": "stream",
     "text": [
      "building tree 1 of 100\n",
      "building tree 2 of 100\n",
      "building tree 3 of 100\n",
      "building tree 4 of 100building tree 5 of 100\n",
      "building tree 6 of 100\n",
      "\n",
      "building tree 7 of 100\n",
      "building tree 8 of 100\n",
      "building tree 9 of 100\n",
      "building tree 10 of 100\n",
      "building tree 11 of 100\n",
      "building tree 12 of 100\n",
      "building tree 13 of 100\n",
      "building tree 14 of 100\n",
      "building tree 15 of 100\n",
      "building tree 16 of 100\n",
      "building tree 17 of 100\n",
      "building tree 18 of 100\n",
      "building tree 19 of 100\n",
      "building tree 20 of 100\n",
      "building tree 21 of 100\n",
      "building tree 22 of 100\n",
      "building tree 23 of 100\n",
      "building tree 24 of 100\n"
     ]
    },
    {
     "name": "stderr",
     "output_type": "stream",
     "text": [
      "[Parallel(n_jobs=-1)]: Done  16 tasks      | elapsed:   31.4s\n"
     ]
    },
    {
     "name": "stdout",
     "output_type": "stream",
     "text": [
      "building tree 25 of 100\n",
      "building tree 26 of 100\n",
      "building tree 27 of 100\n",
      "building tree 28 of 100\n",
      "building tree 29 of 100\n",
      "building tree 30 of 100\n",
      "building tree 31 of 100\n",
      "building tree 32 of 100\n",
      "building tree 33 of 100\n",
      "building tree 34 of 100\n",
      "building tree 35 of 100\n",
      "building tree 36 of 100\n",
      "building tree 37 of 100\n",
      "building tree 38 of 100\n",
      "building tree 39 of 100\n",
      "building tree 40 of 100\n",
      "building tree 41 of 100\n",
      "building tree 42 of 100\n",
      "building tree 43 of 100\n",
      "building tree 44 of 100\n",
      "building tree 45 of 100\n",
      "building tree 46 of 100\n",
      "building tree 47 of 100\n",
      "building tree 48 of 100\n",
      "building tree 49 of 100\n",
      "building tree 50 of 100\n",
      "building tree 51 of 100\n",
      "building tree 52 of 100\n",
      "building tree 53 of 100\n",
      "building tree 54 of 100\n",
      "building tree 55 of 100\n",
      "building tree 56 of 100\n",
      "building tree 57 of 100\n",
      "building tree 58 of 100\n",
      "building tree 59 of 100\n",
      "building tree 60 of 100\n",
      "building tree 61 of 100\n",
      "building tree 62 of 100\n",
      "building tree 63 of 100\n",
      "building tree 64 of 100\n",
      "building tree 65 of 100\n",
      "building tree 66 of 100\n",
      "building tree 67 of 100\n",
      "building tree 68 of 100\n",
      "building tree 69 of 100\n",
      "building tree 70 of 100\n",
      "building tree 71 of 100\n",
      "building tree 72 of 100\n",
      "building tree 73 of 100\n",
      "building tree 74 of 100\n",
      "building tree 75 of 100\n",
      "building tree 76 of 100\n",
      "building tree 77 of 100\n",
      "building tree 78 of 100\n",
      "building tree 79 of 100\n",
      "building tree 80 of 100\n",
      "building tree 81 of 100\n",
      "building tree 82 of 100\n",
      "building tree 83 of 100\n",
      "building tree 84 of 100\n",
      "building tree 85 of 100\n",
      "building tree 86 of 100\n",
      "building tree 87 of 100\n",
      "building tree 88 of 100\n",
      "building tree 89 of 100\n",
      "building tree 90 of 100\n",
      "building tree 91 of 100\n",
      "building tree 92 of 100\n",
      "building tree 93 of 100\n",
      "building tree 94 of 100\n",
      "building tree 95 of 100\n",
      "building tree 96 of 100\n",
      "building tree 97 of 100\n",
      "building tree 98 of 100\n",
      "building tree 99 of 100\n",
      "building tree 100 of 100\n"
     ]
    },
    {
     "name": "stderr",
     "output_type": "stream",
     "text": [
      "[Parallel(n_jobs=-1)]: Done 100 out of 100 | elapsed:  3.3min finished\n",
      "[Parallel(n_jobs=8)]: Using backend ThreadingBackend with 8 concurrent workers.\n",
      "[Parallel(n_jobs=8)]: Done  16 tasks      | elapsed:    1.5s\n"
     ]
    },
    {
     "name": "stdout",
     "output_type": "stream",
     "text": [
      "[Random forest algorithm] accuracy_score: 0.574.\n"
     ]
    },
    {
     "name": "stderr",
     "output_type": "stream",
     "text": [
      "[Parallel(n_jobs=8)]: Done 100 out of 100 | elapsed:   10.0s finished\n"
     ]
    }
   ],
   "source": [
    "#Create a Gaussian Classifier\n",
    "clf=RandomForestClassifier(n_estimators=100,n_jobs=-1,verbose=2)\n",
    "\n",
    "#Train the model using the training sets\n",
    "clf.fit(X_train,y_train)\n",
    "y_pred=clf.predict(X_test)\n",
    "\n",
    "# Get the accuracy score\n",
    "acc_rf=accuracy_score(y_test, y_pred)\n",
    "\n",
    "# Model Accuracy, how often is the classifier correct?\n",
    "print(\"[Random forest algorithm] accuracy_score: {:.3f}.\".format(acc_rf))"
   ]
  },
  {
   "cell_type": "code",
   "execution_count": 20,
   "metadata": {
    "ExecuteTime": {
     "end_time": "2021-12-28T17:18:22.991893Z",
     "start_time": "2021-12-28T17:18:22.644818Z"
    },
    "hidden": true
   },
   "outputs": [],
   "source": [
    "# Plot confusion matrix\n",
    "plot_cm(y_pred,y_test,\"Random Forest\",\"cm_random_forest.pdf\")"
   ]
  },
  {
   "cell_type": "code",
   "execution_count": null,
   "metadata": {
    "hidden": true
   },
   "outputs": [],
   "source": [
    "# Plot ROC curve\n",
    "plot_roc(y_test,clf,\"roc_random_forest.pdf\")"
   ]
  },
  {
   "cell_type": "code",
   "execution_count": null,
   "metadata": {
    "hidden": true
   },
   "outputs": [],
   "source": [
    "# Save model\n",
    "save_model(clf,\"random_forest\",True)"
   ]
  },
  {
   "cell_type": "code",
   "execution_count": null,
   "metadata": {
    "hidden": true
   },
   "outputs": [],
   "source": [
    "# Test with one model\n"
   ]
  },
  {
   "cell_type": "markdown",
   "metadata": {
    "heading_collapsed": true
   },
   "source": [
    "## Modeling: LightGBM"
   ]
  },
  {
   "cell_type": "code",
   "execution_count": 21,
   "metadata": {
    "ExecuteTime": {
     "end_time": "2021-12-29T09:59:28.936435Z",
     "start_time": "2021-12-29T09:59:28.927438Z"
    },
    "hidden": true
   },
   "outputs": [],
   "source": [
    "# Define the model hyperparameters\n",
    "lgbm_params = {\n",
    "          \"boosting_type\": \"gbdt\",\n",
    "          \"learning_rate\": 0.1,\n",
    "          \"num_leaves\": 20,\n",
    "          \"max_bin\": 256,\n",
    "          \"verbosity\": 1,\n",
    "          \"drop_rate\": 0.1,\n",
    "          \"is_unbalance\": False,\n",
    "          \"max_drop\": 50,\n",
    "          \"min_child_samples\": 20,\n",
    "          \"min_child_weight\": 150,\n",
    "          \"min_split_gain\": 0,\n",
    "          \"subsample\": 0.9}\n",
    "# Train the model\n",
    "lbm_clf = lgbm.LGBMClassifier(**params)\n",
    "lbm_clf.fit(X_train,y_train)\n",
    "# Evaluate the model\n",
    "y_pred = clf.predict(X_test)\n",
    "accuracy = accuracy_score(y_pred, y_test)\n",
    "print('LightGBM Model accuracy score: {0:0.4f}'.format(accuracy_score(y_test, y_pred)))"
   ]
  },
  {
   "cell_type": "code",
   "execution_count": null,
   "metadata": {
    "ExecuteTime": {
     "end_time": "2021-12-29T11:49:26.091783Z",
     "start_time": "2021-12-29T11:49:25.626358Z"
    },
    "hidden": true
   },
   "outputs": [],
   "source": [
    "# Plot the confusion matrix\n",
    "plot_cm(y_pred, y_test, \"LightGBM\", 'cm_LightGBM.pdf')"
   ]
  },
  {
   "cell_type": "code",
   "execution_count": null,
   "metadata": {
    "hidden": true
   },
   "outputs": [],
   "source": [
    "# Plot the ROC curve\n",
    "roc_curve(y_test, lbm_clf, \"roc_LightGBM.pdf\")"
   ]
  },
  {
   "cell_type": "code",
   "execution_count": null,
   "metadata": {
    "hidden": true
   },
   "outputs": [],
   "source": [
    "# Save the model\n",
    "save_model(lbm_clf, \"lightgbm\")"
   ]
  },
  {
   "cell_type": "markdown",
   "metadata": {
    "heading_collapsed": true
   },
   "source": [
    "## Modeling XGBoost"
   ]
  },
  {
   "cell_type": "code",
   "execution_count": 33,
   "metadata": {
    "ExecuteTime": {
     "end_time": "2021-12-29T10:14:07.871546Z",
     "start_time": "2021-12-29T10:14:07.859513Z"
    },
    "hidden": true
   },
   "outputs": [],
   "source": [
    "# Before training the model, we need to remove some special characters from the columns name\n",
    "regex = re.compile(r\"\\[|\\]|<\", re.IGNORECASE)\n",
    "X_train.columns = [regex.sub(\"_\", col) if any(x in str(col) for x in set(('[', ']', '<'))) else col for col in X_train.columns.values]"
   ]
  },
  {
   "cell_type": "code",
   "execution_count": 34,
   "metadata": {
    "ExecuteTime": {
     "end_time": "2021-12-29T10:28:36.378220Z",
     "start_time": "2021-12-29T10:14:11.113115Z"
    },
    "hidden": true
   },
   "outputs": [
    {
     "name": "stdout",
     "output_type": "stream",
     "text": [
      "[11:14:21] WARNING: C:/Users/Administrator/workspace/xgboost-win64_release_1.5.1/src/learner.cc:1115: Starting in XGBoost 1.3.0, the default evaluation metric used with the objective 'multi:softprob' was changed from 'merror' to 'mlogloss'. Explicitly set eval_metric if you'd like to restore the old behavior.\n"
     ]
    },
    {
     "data": {
      "text/plain": [
       "XGBClassifier(alpha=10, base_score=0.5, booster='gbtree', colsample_bylevel=1,\n",
       "              colsample_bynode=1, colsample_bytree=1, enable_categorical=False,\n",
       "              gamma=0, gpu_id=-1, importance_type=None,\n",
       "              interaction_constraints='', learning_rate=0.1, max_delta_step=0,\n",
       "              max_depth=10, min_child_weight=1, missing=nan,\n",
       "              monotone_constraints='()', n_estimators=100, n_jobs=8,\n",
       "              num_parallel_tree=1, objective='multi:softprob', predictor='auto',\n",
       "              random_state=0, reg_alpha=10, reg_lambda=1, scale_pos_weight=None,\n",
       "              subsample=1, tree_method='exact', use_label_encoder=False,\n",
       "              validate_parameters=1, ...)"
      ]
     },
     "execution_count": 34,
     "metadata": {},
     "output_type": "execute_result"
    }
   ],
   "source": [
    "# Define the model hyperparameters\n",
    "params = {\n",
    "            'objective':'multi:softmax',\n",
    "            'max_depth': 10,\n",
    "            'alpha': 10,\n",
    "            'learning_rate': 0.1,\n",
    "            'n_estimators':100,\n",
    "            'use_label_encoder':False\n",
    "        }\n",
    "\n",
    "# instantiate the classifier \n",
    "xgb_clf = XGBClassifier(**params)\n",
    "\n",
    "# fit the classifier to the training data\n",
    "xgb_clf.fit(X_train, y_train)\n",
    "\n",
    "# test the models performace\n",
    "y_pred = xgb_clf.predict(X_test)\n",
    "accuracy = accuracy_score(y_pred, y_test)\n",
    "print('XGBBoost Model accuracy score: {0:0.4f}'.format(accuracy_score(y_test, y_pred)))"
   ]
  },
  {
   "cell_type": "code",
   "execution_count": null,
   "metadata": {
    "hidden": true
   },
   "outputs": [],
   "source": [
    "# Plot the confusion matrix\n",
    "plot_cm(y_pred, y_test, \"XGBBoost\", 'cm_XGBBoost.pdf')"
   ]
  },
  {
   "cell_type": "code",
   "execution_count": null,
   "metadata": {
    "hidden": true
   },
   "outputs": [],
   "source": [
    "# Plot the ROC curve\n",
    "roc_curve(y_test, lbm_clf, \"roc_XGBBoost.pdf\")"
   ]
  },
  {
   "cell_type": "code",
   "execution_count": null,
   "metadata": {
    "hidden": true
   },
   "outputs": [],
   "source": [
    "# Save the model\n",
    "save_model(xgb_clf, \"xgboost\")"
   ]
  }
 ],
 "metadata": {
  "kernelspec": {
   "display_name": "Python 3 (ipykernel)",
   "language": "python",
   "name": "python3"
  },
  "language_info": {
   "codemirror_mode": {
    "name": "ipython",
    "version": 3
   },
   "file_extension": ".py",
   "mimetype": "text/x-python",
   "name": "python",
   "nbconvert_exporter": "python",
   "pygments_lexer": "ipython3",
   "version": "3.8.9"
  },
  "latex_envs": {
   "LaTeX_envs_menu_present": true,
   "autoclose": false,
   "autocomplete": true,
   "bibliofile": "biblio.bib",
   "cite_by": "apalike",
   "current_citInitial": 1,
   "eqLabelWithNumbers": true,
   "eqNumInitial": 1,
   "hotkeys": {
    "equation": "Ctrl-E",
    "itemize": "Ctrl-I"
   },
   "labels_anchors": false,
   "latex_user_defs": false,
   "report_style_numbering": false,
   "user_envs_cfg": false
  },
  "toc": {
   "base_numbering": 1,
   "nav_menu": {},
   "number_sections": true,
   "sideBar": true,
   "skip_h1_title": false,
   "title_cell": "Table of Contents",
   "title_sidebar": "Contents",
   "toc_cell": false,
   "toc_position": {},
   "toc_section_display": true,
   "toc_window_display": false
  }
 },
 "nbformat": 4,
 "nbformat_minor": 4
}
